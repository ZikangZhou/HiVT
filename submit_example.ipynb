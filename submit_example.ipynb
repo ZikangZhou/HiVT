{
 "cells": [
  {
   "cell_type": "code",
   "execution_count": null,
   "metadata": {},
   "outputs": [],
   "source": [
    "from argparse import Namespace\n",
    "from torch_geometric.data import DataLoader\n",
    "\n",
    "from datasets import ArgoverseV1Dataset\n",
    "from models.hivt import HiVT\n",
    "\n",
    "args = Namespace(\n",
    "    root='../argoverse-dataset/',\n",
    "    batch_size=32,\n",
    "    num_workers=8,\n",
    "    pin_memory=True,\n",
    "    persistent_workers=True,\n",
    "    gpus=1,\n",
    "    ckpt_path='checkpoints/HiVT-128/checkpoints/epoch=63-step=411903.ckpt',\n",
    "    )\n",
    "\n",
    "model = HiVT.load_from_checkpoint(checkpoint_path=args.ckpt_path, parallel=True)\n",
    "print(\"model prepration done\")\n",
    "\n",
    "sample_dataset = ArgoverseV1Dataset(root=args.root, split='sample', local_radius=model.hparams.local_radius)\n"
   ]
  },
  {
   "cell_type": "code",
   "execution_count": null,
   "metadata": {},
   "outputs": [],
   "source": [
    "# test_dataset = ArgoverseV1Dataset(root=args.root, split='test', local_radius=model.hparams.local_radius)"
   ]
  },
  {
   "cell_type": "code",
   "execution_count": null,
   "metadata": {},
   "outputs": [],
   "source": [
    "import pickle\n",
    "predictions = pickle.load(open(\"predictions.pkl\", \"rb\"))"
   ]
  },
  {
   "cell_type": "code",
   "execution_count": null,
   "metadata": {},
   "outputs": [],
   "source": [
    "from argoverse.evaluation.competition_util import generate_forecasting_h5\n",
    "\n",
    "output_path = 'competition_files/'\n",
    "\n",
    "generate_forecasting_h5(predictions, output_path, filename=\"argoverse_forecasting_test\") #this might take awhile"
   ]
  },
  {
   "cell_type": "code",
   "execution_count": null,
   "metadata": {},
   "outputs": [],
   "source": [
    "import evalai_api as evalai"
   ]
  },
  {
   "cell_type": "code",
   "execution_count": null,
   "metadata": {},
   "outputs": [],
   "source": [
    "submission_detail = evalai.SubmissionDetails(\n",
    "    method_name=\"HiVT-baseline-using-python\",\n",
    "    method_description=\"\",\n",
    "    project_url=\"\",\n",
    "    publication_url=\"\"\n",
    ")\n",
    "evalai.submit(\n",
    "    phase_id=941,\n",
    "    challenge_id = 454,\n",
    "    file=open(\"./competition_files/argoverse_forecasting_test.h5\", \"rb\"),\n",
    "    large=True,\n",
    "    public=False,\n",
    "    private=True,\n",
    "    submission_details=submission_detail,\n",
    "    annotation=False\n",
    ")"
   ]
  }
 ],
 "metadata": {
  "kernelspec": {
   "display_name": "HiVT",
   "language": "python",
   "name": "python3"
  },
  "language_info": {
   "codemirror_mode": {
    "name": "ipython",
    "version": 3
   },
   "file_extension": ".py",
   "mimetype": "text/x-python",
   "name": "python",
   "nbconvert_exporter": "python",
   "pygments_lexer": "ipython3",
   "version": "3.8.10"
  },
  "orig_nbformat": 4,
  "vscode": {
   "interpreter": {
    "hash": "dbb041180e96de33aafb2a2c8620367996b8d09d6767639c19c1c9a211c45a6b"
   }
  }
 },
 "nbformat": 4,
 "nbformat_minor": 2
}
